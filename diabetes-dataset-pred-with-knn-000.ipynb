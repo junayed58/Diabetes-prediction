{
 "cells": [
  {
   "cell_type": "code",
   "execution_count": 3,
   "metadata": {
    "execution": {
     "iopub.execute_input": "2025-03-07T18:02:28.345446Z",
     "iopub.status.busy": "2025-03-07T18:02:28.345054Z",
     "iopub.status.idle": "2025-03-07T18:02:28.865036Z",
     "shell.execute_reply": "2025-03-07T18:02:28.863913Z",
     "shell.execute_reply.started": "2025-03-07T18:02:28.345416Z"
    }
   },
   "outputs": [
    {
     "name": "stdout",
     "output_type": "stream",
     "text": [
      "KNN Accuracy: 0.6908\n",
      "\n",
      "Classification Report:\n",
      "              precision    recall  f1-score   support\n",
      "\n",
      "           0       0.68      1.00      0.81      1275\n",
      "           1       1.00      0.07      0.13       633\n",
      "\n",
      "    accuracy                           0.69      1908\n",
      "   macro avg       0.84      0.53      0.47      1908\n",
      "weighted avg       0.79      0.69      0.58      1908\n",
      "\n",
      "\n",
      "Confusion Matrix:\n",
      "[[1275    0]\n",
      " [ 590   43]]\n"
     ]
    },
    {
     "data": {
      "image/png": "[encoded data removed]",
      "text/plain": [
       "<Figure size 800x600 with 2 Axes>"
      ]
     },
     "metadata": {},
     "output_type": "display_data"
    }
   ],
   "source": [
    "import pandas as pd\n",
    "import numpy as np\n",
    "from sklearn.model_selection import train_test_split\n",
    "from sklearn.neighbors import KNeighborsClassifier\n",
    "from sklearn.metrics import accuracy_score, classification_report, confusion_matrix\n",
    "import seaborn as sns\n",
    "import matplotlib.pyplot as plt\n",
    "from sklearn.preprocessing import LabelEncoder\n",
    "\n",
    "# ----------------- Load Dataset -----------------\n",
    "df = pd.read_csv(\"/kaggle/input/diabetes-dataset/diabetes_dataset.csv\")  # Replace with actual dataset path\n",
    "\n",
    "# Assume last column is the target\n",
    "X = df.iloc[:, :-1]\n",
    "y = df.iloc[:, -1]\n",
    "\n",
    "# Encode categorical target variable if necessary\n",
    "if y.dtype == 'O':\n",
    "    label_encoder = LabelEncoder()\n",
    "    y = label_encoder.fit_transform(y)\n",
    "\n",
    "# Split data into train and test sets\n",
    "X_train, X_test, y_train, y_test = train_test_split(X, y, test_size=0.2, random_state=42)\n",
    "\n",
    "# ----------------- Manual Tuning -----------------\n",
    "# Manually select hyperparameters\n",
    "params = {\n",
    "    'n_neighbors': 200,          # Number of neighbors\n",
    "    'weights': 'uniform',      # Use uniform weights (all neighbors have equal influence)\n",
    "    'metric': 'minkowski',     # Use Minkowski distance metric\n",
    "    'p': 2                     # p=2 for Euclidean distance\n",
    "}\n",
    "\n",
    "# ----------------- Train KNN -----------------\n",
    "knn = KNeighborsClassifier(**params)\n",
    "knn.fit(X_train, y_train)\n",
    "\n",
    "# ----------------- Predictions -----------------\n",
    "y_pred = knn.predict(X_test)\n",
    "\n",
    "# ----------------- Evaluation -----------------\n",
    "accuracy = accuracy_score(y_test, y_pred)\n",
    "print(f\"KNN Accuracy: {accuracy:.4f}\")\n",
    "\n",
    "print(\"\\nClassification Report:\")\n",
    "print(classification_report(y_test, y_pred))\n",
    "\n",
    "conf_matrix = confusion_matrix(y_test, y_pred)\n",
    "print(\"\\nConfusion Matrix:\")\n",
    "print(conf_matrix)\n",
    "\n",
    "# ----------------- Plot Confusion Matrix -----------------\n",
    "plt.figure(figsize=(8, 6))\n",
    "sns.heatmap(conf_matrix, annot=True, fmt=\"d\", cmap=\"Blues\", xticklabels=np.unique(y), yticklabels=np.unique(y))\n",
    "plt.xlabel(\"Predicted\")\n",
    "plt.ylabel(\"Actual\")\n",
    "plt.title(\"Confusion Matrix for KNN\")\n",
    "plt.show()\n"
   ]
  }
 ],
 "metadata": {
  "kaggle": {
   "accelerator": "none",
   "dataSources": [
    {
     "datasetId": 6704716,
     "sourceId": 10802370,
     "sourceType": "datasetVersion"
    }
   ],
   "dockerImageVersionId": 30918,
   "isGpuEnabled": false,
   "isInternetEnabled": true,
   "language": "python",
   "sourceType": "notebook"
  },
  "kernelspec": {
   "display_name": "Python [conda env:base] *",
   "language": "python",
   "name": "conda-base-py"
  },
  "language_info": {
   "codemirror_mode": {
    "name": "ipython",
    "version": 3
   },
   "file_extension": ".py",
   "mimetype": "text/x-python",
   "name": "python",
   "nbconvert_exporter": "python",
   "pygments_lexer": "ipython3",
   "version": "3.12.3"
  }
 },
 "nbformat": 4,
 "nbformat_minor": 4
}
